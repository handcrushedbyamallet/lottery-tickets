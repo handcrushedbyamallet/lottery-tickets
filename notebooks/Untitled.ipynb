{
 "cells": [
  {
   "cell_type": "code",
   "execution_count": 9,
   "id": "a6af3acc",
   "metadata": {},
   "outputs": [],
   "source": [
    "import pandas as pd\n",
    "import seaborn as sns\n",
    "import matplotlib.pyplot as plt\n",
    "\n",
    "sns.set_palette(\"Set2\")"
   ]
  },
  {
   "cell_type": "code",
   "execution_count": 10,
   "id": "1ed469b1",
   "metadata": {},
   "outputs": [
    {
     "data": {
      "text/html": [
       "<div>\n",
       "<style scoped>\n",
       "    .dataframe tbody tr th:only-of-type {\n",
       "        vertical-align: middle;\n",
       "    }\n",
       "\n",
       "    .dataframe tbody tr th {\n",
       "        vertical-align: top;\n",
       "    }\n",
       "\n",
       "    .dataframe thead th {\n",
       "        text-align: right;\n",
       "    }\n",
       "</style>\n",
       "<table border=\"1\" class=\"dataframe\">\n",
       "  <thead>\n",
       "    <tr style=\"text-align: right;\">\n",
       "      <th></th>\n",
       "      <th>experiment_id</th>\n",
       "      <th>target_prune_proportion</th>\n",
       "      <th>iters</th>\n",
       "      <th>n_epochs</th>\n",
       "      <th>initialisation</th>\n",
       "      <th>train_dataset</th>\n",
       "      <th>eval_dataset</th>\n",
       "      <th>split_classes</th>\n",
       "      <th>prune_proportion</th>\n",
       "      <th>accuracy</th>\n",
       "      <th>iteration</th>\n",
       "      <th>dataset</th>\n",
       "      <th>classes</th>\n",
       "    </tr>\n",
       "  </thead>\n",
       "  <tbody>\n",
       "    <tr>\n",
       "      <th>0</th>\n",
       "      <td>30 Epochs</td>\n",
       "      <td>0.9</td>\n",
       "      <td>15</td>\n",
       "      <td>4</td>\n",
       "      <td>same</td>\n",
       "      <td>MNIST</td>\n",
       "      <td>FashionMNIST</td>\n",
       "      <td>None</td>\n",
       "      <td>0.142035</td>\n",
       "      <td>0.8752</td>\n",
       "      <td>0</td>\n",
       "      <td>MNIST</td>\n",
       "      <td>None</td>\n",
       "    </tr>\n",
       "    <tr>\n",
       "      <th>1</th>\n",
       "      <td>30 Epochs</td>\n",
       "      <td>0.9</td>\n",
       "      <td>15</td>\n",
       "      <td>4</td>\n",
       "      <td>same</td>\n",
       "      <td>MNIST</td>\n",
       "      <td>FashionMNIST</td>\n",
       "      <td>None</td>\n",
       "      <td>0.142035</td>\n",
       "      <td>0.7581</td>\n",
       "      <td>0</td>\n",
       "      <td>FashionMNIST</td>\n",
       "      <td>None</td>\n",
       "    </tr>\n",
       "    <tr>\n",
       "      <th>2</th>\n",
       "      <td>30 Epochs</td>\n",
       "      <td>0.9</td>\n",
       "      <td>15</td>\n",
       "      <td>4</td>\n",
       "      <td>same</td>\n",
       "      <td>MNIST</td>\n",
       "      <td>FashionMNIST</td>\n",
       "      <td>None</td>\n",
       "      <td>0.263880</td>\n",
       "      <td>0.8839</td>\n",
       "      <td>1</td>\n",
       "      <td>MNIST</td>\n",
       "      <td>None</td>\n",
       "    </tr>\n",
       "    <tr>\n",
       "      <th>3</th>\n",
       "      <td>30 Epochs</td>\n",
       "      <td>0.9</td>\n",
       "      <td>15</td>\n",
       "      <td>4</td>\n",
       "      <td>same</td>\n",
       "      <td>MNIST</td>\n",
       "      <td>FashionMNIST</td>\n",
       "      <td>None</td>\n",
       "      <td>0.263880</td>\n",
       "      <td>0.7499</td>\n",
       "      <td>1</td>\n",
       "      <td>FashionMNIST</td>\n",
       "      <td>None</td>\n",
       "    </tr>\n",
       "    <tr>\n",
       "      <th>4</th>\n",
       "      <td>30 Epochs</td>\n",
       "      <td>0.9</td>\n",
       "      <td>15</td>\n",
       "      <td>4</td>\n",
       "      <td>same</td>\n",
       "      <td>MNIST</td>\n",
       "      <td>FashionMNIST</td>\n",
       "      <td>None</td>\n",
       "      <td>0.368403</td>\n",
       "      <td>0.8854</td>\n",
       "      <td>2</td>\n",
       "      <td>MNIST</td>\n",
       "      <td>None</td>\n",
       "    </tr>\n",
       "  </tbody>\n",
       "</table>\n",
       "</div>"
      ],
      "text/plain": [
       "  experiment_id  target_prune_proportion  iters  n_epochs initialisation  \\\n",
       "0     30 Epochs                      0.9     15         4           same   \n",
       "1     30 Epochs                      0.9     15         4           same   \n",
       "2     30 Epochs                      0.9     15         4           same   \n",
       "3     30 Epochs                      0.9     15         4           same   \n",
       "4     30 Epochs                      0.9     15         4           same   \n",
       "\n",
       "  train_dataset  eval_dataset split_classes  prune_proportion  accuracy  \\\n",
       "0         MNIST  FashionMNIST          None          0.142035    0.8752   \n",
       "1         MNIST  FashionMNIST          None          0.142035    0.7581   \n",
       "2         MNIST  FashionMNIST          None          0.263880    0.8839   \n",
       "3         MNIST  FashionMNIST          None          0.263880    0.7499   \n",
       "4         MNIST  FashionMNIST          None          0.368403    0.8854   \n",
       "\n",
       "   iteration       dataset classes  \n",
       "0          0         MNIST    None  \n",
       "1          0  FashionMNIST    None  \n",
       "2          1         MNIST    None  \n",
       "3          1  FashionMNIST    None  \n",
       "4          2         MNIST    None  "
      ]
     },
     "execution_count": 10,
     "metadata": {},
     "output_type": "execute_result"
    }
   ],
   "source": [
    "df = pd.read_csv('../experiments/30 epochs.csv')\n",
    "df.head(5)"
   ]
  },
  {
   "cell_type": "code",
   "execution_count": 14,
   "id": "ea0fbc75",
   "metadata": {},
   "outputs": [
    {
     "data": {
      "text/plain": [
       "<seaborn.axisgrid.FacetGrid at 0x11a3247f0>"
      ]
     },
     "execution_count": 14,
     "metadata": {},
     "output_type": "execute_result"
    },
    {
     "data": {
      "image/png": "[encoded data removed]",
      "text/plain": [
       "<Figure size 864x432 with 2 Axes>"
      ]
     },
     "metadata": {
      "needs_background": "light"
     },
     "output_type": "display_data"
    }
   ],
   "source": [
    "g = sns.FacetGrid(data=df, col='dataset', hue='initialisation', height=6)\n",
    "\n",
    "g.map(sns.lineplot, 'prune_proportion', 'accuracy')"
   ]
  },
  {
   "cell_type": "code",
   "execution_count": null,
   "id": "88eb54f5",
   "metadata": {},
   "outputs": [],
   "source": []
  }
 ],
 "metadata": {
  "kernelspec": {
   "display_name": "Python 3 (ipykernel)",
   "language": "python",
   "name": "python3"
  },
  "language_info": {
   "codemirror_mode": {
    "name": "ipython",
    "version": 3
   },
   "file_extension": ".py",
   "mimetype": "text/x-python",
   "name": "python",
   "nbconvert_exporter": "python",
   "pygments_lexer": "ipython3",
   "version": "3.9.9"
  }
 },
 "nbformat": 4,
 "nbformat_minor": 5
}
